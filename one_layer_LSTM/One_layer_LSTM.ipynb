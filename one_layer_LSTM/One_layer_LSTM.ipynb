{
 "cells": [
  {
   "cell_type": "markdown",
   "metadata": {},
   "source": [
    "### Compute metric\n",
    "## $R M S S E=\\sqrt{\\frac{1}{h} \\frac{\\sum_{t=n+1}^{n+h}\\left(Y_{t}-\\widehat{Y}_{t}\\right)^{2}}{\\frac{1}{n-1} \\sum_{t=2}^{n}\\left(Y_{t}-Y_{t-1}\\right)^{2}}}$"
   ]
  },
  {
   "cell_type": "code",
   "execution_count": 1,
   "metadata": {},
   "outputs": [
    {
     "data": {
      "application/javascript": [
       "\n",
       "            setTimeout(function() {\n",
       "                var nbb_cell_id = 1;\n",
       "                var nbb_unformatted_code = \"%load_ext nb_black\";\n",
       "                var nbb_formatted_code = \"%load_ext nb_black\";\n",
       "                var nbb_cells = Jupyter.notebook.get_cells();\n",
       "                for (var i = 0; i < nbb_cells.length; ++i) {\n",
       "                    if (nbb_cells[i].input_prompt_number == nbb_cell_id) {\n",
       "                        if (nbb_cells[i].get_text() == nbb_unformatted_code) {\n",
       "                             nbb_cells[i].set_text(nbb_formatted_code);\n",
       "                        }\n",
       "                        break;\n",
       "                    }\n",
       "                }\n",
       "            }, 500);\n",
       "            "
      ],
      "text/plain": [
       "<IPython.core.display.Javascript object>"
      ]
     },
     "metadata": {},
     "output_type": "display_data"
    }
   ],
   "source": [
    "%load_ext nb_black"
   ]
  },
  {
   "cell_type": "code",
   "execution_count": 2,
   "metadata": {},
   "outputs": [
    {
     "data": {
      "application/javascript": [
       "\n",
       "            setTimeout(function() {\n",
       "                var nbb_cell_id = 2;\n",
       "                var nbb_unformatted_code = \"%matplotlib inline\";\n",
       "                var nbb_formatted_code = \"%matplotlib inline\";\n",
       "                var nbb_cells = Jupyter.notebook.get_cells();\n",
       "                for (var i = 0; i < nbb_cells.length; ++i) {\n",
       "                    if (nbb_cells[i].input_prompt_number == nbb_cell_id) {\n",
       "                        if (nbb_cells[i].get_text() == nbb_unformatted_code) {\n",
       "                             nbb_cells[i].set_text(nbb_formatted_code);\n",
       "                        }\n",
       "                        break;\n",
       "                    }\n",
       "                }\n",
       "            }, 500);\n",
       "            "
      ],
      "text/plain": [
       "<IPython.core.display.Javascript object>"
      ]
     },
     "metadata": {},
     "output_type": "display_data"
    }
   ],
   "source": [
    "%matplotlib inline"
   ]
  },
  {
   "cell_type": "code",
   "execution_count": 3,
   "metadata": {
    "scrolled": true
   },
   "outputs": [
    {
     "data": {
      "application/javascript": [
       "\n",
       "            setTimeout(function() {\n",
       "                var nbb_cell_id = 3;\n",
       "                var nbb_unformatted_code = \"from utils import *\\nimport warnings\\nfrom data_loader import DatasetLSTM\\nfrom train_one_layer_LSTM import train_lstm\\nfrom one_layer_LSTM_model import LstmModel\\n\\n\\nwarnings.filterwarnings(\\\"ignore\\\")\";\n",
       "                var nbb_formatted_code = \"from utils import *\\nimport warnings\\nfrom data_loader import DatasetLSTM\\nfrom train_one_layer_LSTM import train_lstm\\nfrom one_layer_LSTM_model import LstmModel\\n\\n\\nwarnings.filterwarnings(\\\"ignore\\\")\";\n",
       "                var nbb_cells = Jupyter.notebook.get_cells();\n",
       "                for (var i = 0; i < nbb_cells.length; ++i) {\n",
       "                    if (nbb_cells[i].input_prompt_number == nbb_cell_id) {\n",
       "                        if (nbb_cells[i].get_text() == nbb_unformatted_code) {\n",
       "                             nbb_cells[i].set_text(nbb_formatted_code);\n",
       "                        }\n",
       "                        break;\n",
       "                    }\n",
       "                }\n",
       "            }, 500);\n",
       "            "
      ],
      "text/plain": [
       "<IPython.core.display.Javascript object>"
      ]
     },
     "metadata": {},
     "output_type": "display_data"
    }
   ],
   "source": [
    "from utils import *\n",
    "import warnings\n",
    "from data_loader import DatasetLSTM\n",
    "from train_one_layer_LSTM import train_lstm\n",
    "from one_layer_LSTM_model import LstmModel\n",
    "\n",
    "\n",
    "warnings.filterwarnings(\"ignore\")"
   ]
  },
  {
   "cell_type": "code",
   "execution_count": 4,
   "metadata": {},
   "outputs": [
    {
     "data": {
      "application/javascript": [
       "\n",
       "            setTimeout(function() {\n",
       "                var nbb_cell_id = 4;\n",
       "                var nbb_unformatted_code = \"# calendar = pd.read_csv('../calendar.csv')\\ntrain = pd.read_csv(\\\"../sales_train_validation.csv\\\")\\n# submission = pd.read_csv('../sample_submission.csv')\\n# test = pd.read_csv('../sell_prices.csv')\\n# fit, val = pd.read_csv(\\\"../fit.csv\\\"), pd.read_csv(\\\"../val.csv\\\")\\n# train = pd.read_csv('../train_ts.csv')\";\n",
       "                var nbb_formatted_code = \"# calendar = pd.read_csv('../calendar.csv')\\ntrain = pd.read_csv(\\\"../sales_train_validation.csv\\\")\\n# submission = pd.read_csv('../sample_submission.csv')\\n# test = pd.read_csv('../sell_prices.csv')\\n# fit, val = pd.read_csv(\\\"../fit.csv\\\"), pd.read_csv(\\\"../val.csv\\\")\\n# train = pd.read_csv('../train_ts.csv')\";\n",
       "                var nbb_cells = Jupyter.notebook.get_cells();\n",
       "                for (var i = 0; i < nbb_cells.length; ++i) {\n",
       "                    if (nbb_cells[i].input_prompt_number == nbb_cell_id) {\n",
       "                        if (nbb_cells[i].get_text() == nbb_unformatted_code) {\n",
       "                             nbb_cells[i].set_text(nbb_formatted_code);\n",
       "                        }\n",
       "                        break;\n",
       "                    }\n",
       "                }\n",
       "            }, 500);\n",
       "            "
      ],
      "text/plain": [
       "<IPython.core.display.Javascript object>"
      ]
     },
     "metadata": {},
     "output_type": "display_data"
    }
   ],
   "source": [
    "# calendar = pd.read_csv('../calendar.csv')\n",
    "train = pd.read_csv(\"../sales_train_validation.csv\")\n",
    "# submission = pd.read_csv('../sample_submission.csv')\n",
    "# test = pd.read_csv('../sell_prices.csv')\n",
    "# fit, val = pd.read_csv(\"../fit.csv\"), pd.read_csv(\"../val.csv\")\n",
    "# train = pd.read_csv('../train_ts.csv')"
   ]
  },
  {
   "cell_type": "code",
   "execution_count": 5,
   "metadata": {},
   "outputs": [
    {
     "data": {
      "application/javascript": [
       "\n",
       "            setTimeout(function() {\n",
       "                var nbb_cell_id = 5;\n",
       "                var nbb_unformatted_code = \"# train = ts_scale(train)\";\n",
       "                var nbb_formatted_code = \"# train = ts_scale(train)\";\n",
       "                var nbb_cells = Jupyter.notebook.get_cells();\n",
       "                for (var i = 0; i < nbb_cells.length; ++i) {\n",
       "                    if (nbb_cells[i].input_prompt_number == nbb_cell_id) {\n",
       "                        if (nbb_cells[i].get_text() == nbb_unformatted_code) {\n",
       "                             nbb_cells[i].set_text(nbb_formatted_code);\n",
       "                        }\n",
       "                        break;\n",
       "                    }\n",
       "                }\n",
       "            }, 500);\n",
       "            "
      ],
      "text/plain": [
       "<IPython.core.display.Javascript object>"
      ]
     },
     "metadata": {},
     "output_type": "display_data"
    }
   ],
   "source": [
    "# train = ts_scale(train)"
   ]
  },
  {
   "cell_type": "code",
   "execution_count": 12,
   "metadata": {},
   "outputs": [
    {
     "data": {
      "text/plain": [
       "pandas.core.frame.DataFrame"
      ]
     },
     "execution_count": 12,
     "metadata": {},
     "output_type": "execute_result"
    },
    {
     "data": {
      "application/javascript": [
       "\n",
       "            setTimeout(function() {\n",
       "                var nbb_cell_id = 12;\n",
       "                var nbb_unformatted_code = \"type(train)\";\n",
       "                var nbb_formatted_code = \"type(train)\";\n",
       "                var nbb_cells = Jupyter.notebook.get_cells();\n",
       "                for (var i = 0; i < nbb_cells.length; ++i) {\n",
       "                    if (nbb_cells[i].input_prompt_number == nbb_cell_id) {\n",
       "                        if (nbb_cells[i].get_text() == nbb_unformatted_code) {\n",
       "                             nbb_cells[i].set_text(nbb_formatted_code);\n",
       "                        }\n",
       "                        break;\n",
       "                    }\n",
       "                }\n",
       "            }, 500);\n",
       "            "
      ],
      "text/plain": [
       "<IPython.core.display.Javascript object>"
      ]
     },
     "metadata": {},
     "output_type": "display_data"
    }
   ],
   "source": [
    "type(train)"
   ]
  },
  {
   "cell_type": "code",
   "execution_count": 6,
   "metadata": {},
   "outputs": [
    {
     "data": {
      "application/javascript": [
       "\n",
       "            setTimeout(function() {\n",
       "                var nbb_cell_id = 6;\n",
       "                var nbb_unformatted_code = \"i = 0\";\n",
       "                var nbb_formatted_code = \"i = 0\";\n",
       "                var nbb_cells = Jupyter.notebook.get_cells();\n",
       "                for (var i = 0; i < nbb_cells.length; ++i) {\n",
       "                    if (nbb_cells[i].input_prompt_number == nbb_cell_id) {\n",
       "                        if (nbb_cells[i].get_text() == nbb_unformatted_code) {\n",
       "                             nbb_cells[i].set_text(nbb_formatted_code);\n",
       "                        }\n",
       "                        break;\n",
       "                    }\n",
       "                }\n",
       "            }, 500);\n",
       "            "
      ],
      "text/plain": [
       "<IPython.core.display.Javascript object>"
      ]
     },
     "metadata": {},
     "output_type": "display_data"
    }
   ],
   "source": [
    "i = 0"
   ]
  },
  {
   "cell_type": "code",
   "execution_count": 7,
   "metadata": {},
   "outputs": [
    {
     "data": {
      "application/javascript": [
       "\n",
       "            setTimeout(function() {\n",
       "                var nbb_cell_id = 7;\n",
       "                var nbb_unformatted_code = \"SIZE = 1913\\nDAYS = range(1, SIZE + 1)\\nts_columns = [f\\\"d_{i}\\\" for i in DAYS]\\n\\nfit = train[ts_columns].iloc[0 : 30488 // 2]\\nval = train[ts_columns].iloc[30488 // 2 : -2]\";\n",
       "                var nbb_formatted_code = \"SIZE = 1913\\nDAYS = range(1, SIZE + 1)\\nts_columns = [f\\\"d_{i}\\\" for i in DAYS]\\n\\nfit = train[ts_columns].iloc[0 : 30488 // 2]\\nval = train[ts_columns].iloc[30488 // 2 : -2]\";\n",
       "                var nbb_cells = Jupyter.notebook.get_cells();\n",
       "                for (var i = 0; i < nbb_cells.length; ++i) {\n",
       "                    if (nbb_cells[i].input_prompt_number == nbb_cell_id) {\n",
       "                        if (nbb_cells[i].get_text() == nbb_unformatted_code) {\n",
       "                             nbb_cells[i].set_text(nbb_formatted_code);\n",
       "                        }\n",
       "                        break;\n",
       "                    }\n",
       "                }\n",
       "            }, 500);\n",
       "            "
      ],
      "text/plain": [
       "<IPython.core.display.Javascript object>"
      ]
     },
     "metadata": {},
     "output_type": "display_data"
    }
   ],
   "source": [
    "SIZE = 1913\n",
    "DAYS = range(1, SIZE + 1)\n",
    "ts_columns = [f\"d_{i}\" for i in DAYS]\n",
    "\n",
    "fit = train[ts_columns].iloc[0 : 30488 // 2]\n",
    "val = train[ts_columns].iloc[30488 // 2 : -2]"
   ]
  },
  {
   "cell_type": "code",
   "execution_count": 8,
   "metadata": {},
   "outputs": [
    {
     "data": {
      "application/javascript": [
       "\n",
       "            setTimeout(function() {\n",
       "                var nbb_cell_id = 8;\n",
       "                var nbb_unformatted_code = \"fit[\\\"mean\\\"] = fit.mean(axis=1)\\nval[\\\"mean\\\"] = val.mean(axis=1)\\n\\nfit[\\\"std\\\"] = fit.std(axis=1)\\nval[\\\"std\\\"] = val.std(axis=1)\\n\\n# Normalisation\\nfit = fit.apply(lambda row: (row - row[\\\"mean\\\"]) / row[\\\"std\\\"], axis=1)\\nfit.drop([\\\"mean\\\", \\\"std\\\"], axis=1, inplace=True)\\n\\nval = val.apply(lambda row: (row - row[\\\"mean\\\"]) / row[\\\"std\\\"], axis=1)\\nval.drop([\\\"mean\\\", \\\"std\\\"], axis=1, inplace=True)\";\n",
       "                var nbb_formatted_code = \"fit[\\\"mean\\\"] = fit.mean(axis=1)\\nval[\\\"mean\\\"] = val.mean(axis=1)\\n\\nfit[\\\"std\\\"] = fit.std(axis=1)\\nval[\\\"std\\\"] = val.std(axis=1)\\n\\n# Normalisation\\nfit = fit.apply(lambda row: (row - row[\\\"mean\\\"]) / row[\\\"std\\\"], axis=1)\\nfit.drop([\\\"mean\\\", \\\"std\\\"], axis=1, inplace=True)\\n\\nval = val.apply(lambda row: (row - row[\\\"mean\\\"]) / row[\\\"std\\\"], axis=1)\\nval.drop([\\\"mean\\\", \\\"std\\\"], axis=1, inplace=True)\";\n",
       "                var nbb_cells = Jupyter.notebook.get_cells();\n",
       "                for (var i = 0; i < nbb_cells.length; ++i) {\n",
       "                    if (nbb_cells[i].input_prompt_number == nbb_cell_id) {\n",
       "                        if (nbb_cells[i].get_text() == nbb_unformatted_code) {\n",
       "                             nbb_cells[i].set_text(nbb_formatted_code);\n",
       "                        }\n",
       "                        break;\n",
       "                    }\n",
       "                }\n",
       "            }, 500);\n",
       "            "
      ],
      "text/plain": [
       "<IPython.core.display.Javascript object>"
      ]
     },
     "metadata": {},
     "output_type": "display_data"
    }
   ],
   "source": [
    "fit[\"mean\"] = fit.mean(axis=1)\n",
    "val[\"mean\"] = val.mean(axis=1)\n",
    "\n",
    "fit[\"std\"] = fit.std(axis=1)\n",
    "val[\"std\"] = val.std(axis=1)\n",
    "\n",
    "# Normalisation\n",
    "fit = fit.apply(lambda row: (row - row[\"mean\"]) / row[\"std\"], axis=1)\n",
    "fit.drop([\"mean\", \"std\"], axis=1, inplace=True)\n",
    "\n",
    "val = val.apply(lambda row: (row - row[\"mean\"]) / row[\"std\"], axis=1)\n",
    "val.drop([\"mean\", \"std\"], axis=1, inplace=True)"
   ]
  },
  {
   "cell_type": "markdown",
   "metadata": {},
   "source": [
    "## **Data loader sanity check**"
   ]
  },
  {
   "cell_type": "markdown",
   "metadata": {},
   "source": [
    "On va séparer le train en fit et val : Le fit contient les $N - 28$ premiers jours et le val contient les $28$ derniers jours."
   ]
  },
  {
   "cell_type": "code",
   "execution_count": 9,
   "metadata": {},
   "outputs": [
    {
     "name": "stdout",
     "output_type": "stream",
     "text": [
      "training_days :85\n"
     ]
    },
    {
     "data": {
      "application/javascript": [
       "\n",
       "            setTimeout(function() {\n",
       "                var nbb_cell_id = 9;\n",
       "                var nbb_unformatted_code = \"criterion = nn.MSELoss()\\ndevice = torch.device(\\\"cuda:0\\\" if torch.cuda.is_available() else \\\"cpu\\\")\\n\\nbatch_size = 2048\\nstart_day = 1800\\ntarget_size = 28\\n\\nsequence_lenght = SIZE - (start_day + target_size)\\nprint(f\\\"training_days :{sequence_lenght}\\\")\\n\\nmodel = LstmModel(\\n    hidden_dim=128,\\n    batch_size=batch_size,\\n    target_size=target_size,\\n    n_layers=1,\\n    sequence_length=sequence_lenght,\\n    device=device,\\n)\\n\\noptimizer = optim.Adam(model.parameters(), lr=0.001)\\n\\ndata_train = DatasetLSTM(df=fit, start_day=start_day, target_size=target_size)\\ntrain_loader = DataLoader(\\n    data_train, batch_size=batch_size, shuffle=True, num_workers=4\\n)\\n\\ndata_val = DatasetLSTM(df=val, start_day=start_day, target_size=target_size)\\n\\nval_loader = DataLoader(data_val, batch_size=batch_size, shuffle=True, num_workers=4)\\n\\nn_epochs = 10\";\n",
       "                var nbb_formatted_code = \"criterion = nn.MSELoss()\\ndevice = torch.device(\\\"cuda:0\\\" if torch.cuda.is_available() else \\\"cpu\\\")\\n\\nbatch_size = 2048\\nstart_day = 1800\\ntarget_size = 28\\n\\nsequence_lenght = SIZE - (start_day + target_size)\\nprint(f\\\"training_days :{sequence_lenght}\\\")\\n\\nmodel = LstmModel(\\n    hidden_dim=128,\\n    batch_size=batch_size,\\n    target_size=target_size,\\n    n_layers=1,\\n    sequence_length=sequence_lenght,\\n    device=device,\\n)\\n\\noptimizer = optim.Adam(model.parameters(), lr=0.001)\\n\\ndata_train = DatasetLSTM(df=fit, start_day=start_day, target_size=target_size)\\ntrain_loader = DataLoader(\\n    data_train, batch_size=batch_size, shuffle=True, num_workers=4\\n)\\n\\ndata_val = DatasetLSTM(df=val, start_day=start_day, target_size=target_size)\\n\\nval_loader = DataLoader(data_val, batch_size=batch_size, shuffle=True, num_workers=4)\\n\\nn_epochs = 10\";\n",
       "                var nbb_cells = Jupyter.notebook.get_cells();\n",
       "                for (var i = 0; i < nbb_cells.length; ++i) {\n",
       "                    if (nbb_cells[i].input_prompt_number == nbb_cell_id) {\n",
       "                        if (nbb_cells[i].get_text() == nbb_unformatted_code) {\n",
       "                             nbb_cells[i].set_text(nbb_formatted_code);\n",
       "                        }\n",
       "                        break;\n",
       "                    }\n",
       "                }\n",
       "            }, 500);\n",
       "            "
      ],
      "text/plain": [
       "<IPython.core.display.Javascript object>"
      ]
     },
     "metadata": {},
     "output_type": "display_data"
    }
   ],
   "source": [
    "criterion = nn.MSELoss()\n",
    "device = torch.device(\"cuda:0\" if torch.cuda.is_available() else \"cpu\")\n",
    "\n",
    "batch_size = 2048\n",
    "start_day = 1800\n",
    "target_size = 28\n",
    "\n",
    "sequence_lenght = SIZE - (start_day + target_size)\n",
    "print(f\"training_days :{sequence_lenght}\")\n",
    "\n",
    "model = LstmModel(\n",
    "    hidden_dim=128,\n",
    "    batch_size=batch_size,\n",
    "    target_size=target_size,\n",
    "    n_layers=1,\n",
    "    sequence_length=sequence_lenght,\n",
    "    device=device,\n",
    ")\n",
    "\n",
    "optimizer = optim.Adam(model.parameters(), lr=0.001)\n",
    "\n",
    "data_train = DatasetLSTM(df=fit, start_day=start_day, target_size=target_size)\n",
    "train_loader = DataLoader(\n",
    "    data_train, batch_size=batch_size, shuffle=True, num_workers=4\n",
    ")\n",
    "\n",
    "data_val = DatasetLSTM(df=val, start_day=start_day, target_size=target_size)\n",
    "\n",
    "val_loader = DataLoader(data_val, batch_size=batch_size, shuffle=True, num_workers=4)\n",
    "\n",
    "n_epochs = 10\n"
   ]
  },
  {
   "cell_type": "code",
   "execution_count": 18,
   "metadata": {},
   "outputs": [
    {
     "data": {
      "text/plain": [
       "torch.utils.data.dataloader.DataLoader"
      ]
     },
     "execution_count": 18,
     "metadata": {},
     "output_type": "execute_result"
    },
    {
     "data": {
      "application/javascript": [
       "\n",
       "            setTimeout(function() {\n",
       "                var nbb_cell_id = 18;\n",
       "                var nbb_unformatted_code = \"type(train_loader)\";\n",
       "                var nbb_formatted_code = \"type(train_loader)\";\n",
       "                var nbb_cells = Jupyter.notebook.get_cells();\n",
       "                for (var i = 0; i < nbb_cells.length; ++i) {\n",
       "                    if (nbb_cells[i].input_prompt_number == nbb_cell_id) {\n",
       "                        if (nbb_cells[i].get_text() == nbb_unformatted_code) {\n",
       "                             nbb_cells[i].set_text(nbb_formatted_code);\n",
       "                        }\n",
       "                        break;\n",
       "                    }\n",
       "                }\n",
       "            }, 500);\n",
       "            "
      ],
      "text/plain": [
       "<IPython.core.display.Javascript object>"
      ]
     },
     "metadata": {},
     "output_type": "display_data"
    }
   ],
   "source": [
    "type(train_loader)"
   ]
  },
  {
   "cell_type": "code",
   "execution_count": 10,
   "metadata": {
    "scrolled": true
   },
   "outputs": [
    {
     "data": {
      "application/vnd.jupyter.widget-view+json": {
       "model_id": "ef7e7b149c8943329caad0b1128e2e82",
       "version_major": 2,
       "version_minor": 0
      },
      "text/plain": [
       "HBox(children=(IntProgress(value=0, max=10), HTML(value='')))"
      ]
     },
     "metadata": {},
     "output_type": "display_data"
    },
    {
     "name": "stdout",
     "output_type": "stream",
     "text": [
      "Fit loss: 0.1009 and Val loss: 0.0869\n",
      "Fit loss: 0.0903 and Val loss: 0.0887\n",
      "Fit loss: 0.0863 and Val loss: 0.0817\n",
      "Fit loss: 0.0889 and Val loss: 0.0860\n",
      "Fit loss: 0.0899 and Val loss: 0.0866\n",
      "Fit loss: 0.0861 and Val loss: 0.0812\n",
      "Fit loss: 0.0835 and Val loss: 0.0808\n",
      "Fit loss: 0.0879 and Val loss: 0.0851\n",
      "Fit loss: 0.0885 and Val loss: 0.0818\n",
      "Fit loss: 0.0848 and Val loss: 0.0824\n",
      "\n"
     ]
    },
    {
     "data": {
      "application/javascript": [
       "\n",
       "            setTimeout(function() {\n",
       "                var nbb_cell_id = 10;\n",
       "                var nbb_unformatted_code = \"train_lstm(\\n    model=model,\\n    criterion=criterion,\\n    optimizer=optimizer,\\n    train_loader=train_loader,\\n    val_loader=val_loader,\\n    device=device,\\n    verbose=True,\\n    n_epochs=n_epochs,\\n    kwargs_writer={\\n        \\\"log_dir\\\": f\\\"tensorboard_exp/runs_{i}/n_epochs={n_epochs}_train_days={sequence_lenght}_days_batchsize={batch_size}\\\"\\n    },\\n)\\ni += 1\";\n",
       "                var nbb_formatted_code = \"train_lstm(\\n    model=model,\\n    criterion=criterion,\\n    optimizer=optimizer,\\n    train_loader=train_loader,\\n    val_loader=val_loader,\\n    device=device,\\n    verbose=True,\\n    n_epochs=n_epochs,\\n    kwargs_writer={\\n        \\\"log_dir\\\": f\\\"tensorboard_exp/runs_{i}/n_epochs={n_epochs}_train_days={sequence_lenght}_days_batchsize={batch_size}\\\"\\n    },\\n)\\ni += 1\";\n",
       "                var nbb_cells = Jupyter.notebook.get_cells();\n",
       "                for (var i = 0; i < nbb_cells.length; ++i) {\n",
       "                    if (nbb_cells[i].input_prompt_number == nbb_cell_id) {\n",
       "                        if (nbb_cells[i].get_text() == nbb_unformatted_code) {\n",
       "                             nbb_cells[i].set_text(nbb_formatted_code);\n",
       "                        }\n",
       "                        break;\n",
       "                    }\n",
       "                }\n",
       "            }, 500);\n",
       "            "
      ],
      "text/plain": [
       "<IPython.core.display.Javascript object>"
      ]
     },
     "metadata": {},
     "output_type": "display_data"
    }
   ],
   "source": [
    "train_lstm(\n",
    "    model=model,\n",
    "    criterion=criterion,\n",
    "    optimizer=optimizer,\n",
    "    train_loader=train_loader,\n",
    "    val_loader=val_loader,\n",
    "    device=device,\n",
    "    verbose=True,\n",
    "    n_epochs=n_epochs,\n",
    "    kwargs_writer={\n",
    "        \"log_dir\": f\"tensorboard_exp/runs_{i}/n_epochs={n_epochs}_train_days={sequence_lenght}_days_batchsize={batch_size}\"\n",
    "    },\n",
    ")\n",
    "i += 1"
   ]
  },
  {
   "cell_type": "code",
   "execution_count": 11,
   "metadata": {},
   "outputs": [
    {
     "data": {
      "application/javascript": [
       "\n",
       "            setTimeout(function() {\n",
       "                var nbb_cell_id = 11;\n",
       "                var nbb_unformatted_code = \" #Run nvidia-smi \\n    #sudo kill -9 PID\\n# to clear gpu Memory\\n    \";\n",
       "                var nbb_formatted_code = \"# Run nvidia-smi\\n# sudo kill -9 PID\\n# to clear gpu Memory\";\n",
       "                var nbb_cells = Jupyter.notebook.get_cells();\n",
       "                for (var i = 0; i < nbb_cells.length; ++i) {\n",
       "                    if (nbb_cells[i].input_prompt_number == nbb_cell_id) {\n",
       "                        if (nbb_cells[i].get_text() == nbb_unformatted_code) {\n",
       "                             nbb_cells[i].set_text(nbb_formatted_code);\n",
       "                        }\n",
       "                        break;\n",
       "                    }\n",
       "                }\n",
       "            }, 500);\n",
       "            "
      ],
      "text/plain": [
       "<IPython.core.display.Javascript object>"
      ]
     },
     "metadata": {},
     "output_type": "display_data"
    }
   ],
   "source": [
    " #Run nvidia-smi \n",
    "    #sudo kill -9 PID\n",
    "# to clear gpu Memory\n",
    "\n",
    "# and\n",
    "    # tensorboard --logdir .\n",
    "    # in tensorboard_exp directory\n",
    "\n",
    "    "
   ]
  },
  {
   "cell_type": "code",
   "execution_count": null,
   "metadata": {},
   "outputs": [],
   "source": []
  }
 ],
 "metadata": {
  "kernelspec": {
   "display_name": "Python 3",
   "language": "python",
   "name": "python3"
  },
  "language_info": {
   "codemirror_mode": {
    "name": "ipython",
    "version": 3
   },
   "file_extension": ".py",
   "mimetype": "text/x-python",
   "name": "python",
   "nbconvert_exporter": "python",
   "pygments_lexer": "ipython3",
   "version": "3.7.4"
  }
 },
 "nbformat": 4,
 "nbformat_minor": 2
}
