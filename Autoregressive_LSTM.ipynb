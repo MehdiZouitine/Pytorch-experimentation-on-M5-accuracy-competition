{
 "cells": [
  {
   "cell_type": "markdown",
   "metadata": {},
   "source": [
    "### Compute metric\n",
    "## $R M S S E=\\sqrt{\\frac{1}{h} \\frac{\\sum_{t=n+1}^{n+h}\\left(Y_{t}-\\widehat{Y}_{t}\\right)^{2}}{\\frac{1}{n-1} \\sum_{t=2}^{n}\\left(Y_{t}-Y_{t-1}\\right)^{2}}}$"
   ]
  },
  {
   "cell_type": "code",
   "execution_count": 1,
   "metadata": {},
   "outputs": [
    {
     "data": {
      "application/javascript": [
       "\n",
       "            setTimeout(function() {\n",
       "                var nbb_cell_id = 1;\n",
       "                var nbb_unformatted_code = \"%load_ext nb_black\";\n",
       "                var nbb_formatted_code = \"%load_ext nb_black\";\n",
       "                var nbb_cells = Jupyter.notebook.get_cells();\n",
       "                for (var i = 0; i < nbb_cells.length; ++i) {\n",
       "                    if (nbb_cells[i].input_prompt_number == nbb_cell_id) {\n",
       "                        if (nbb_cells[i].get_text() == nbb_unformatted_code) {\n",
       "                             nbb_cells[i].set_text(nbb_formatted_code);\n",
       "                        }\n",
       "                        break;\n",
       "                    }\n",
       "                }\n",
       "            }, 500);\n",
       "            "
      ],
      "text/plain": [
       "<IPython.core.display.Javascript object>"
      ]
     },
     "metadata": {},
     "output_type": "display_data"
    }
   ],
   "source": [
    "%load_ext nb_black"
   ]
  },
  {
   "cell_type": "code",
   "execution_count": 2,
   "metadata": {},
   "outputs": [
    {
     "data": {
      "application/javascript": [
       "\n",
       "            setTimeout(function() {\n",
       "                var nbb_cell_id = 2;\n",
       "                var nbb_unformatted_code = \"%matplotlib inline\";\n",
       "                var nbb_formatted_code = \"%matplotlib inline\";\n",
       "                var nbb_cells = Jupyter.notebook.get_cells();\n",
       "                for (var i = 0; i < nbb_cells.length; ++i) {\n",
       "                    if (nbb_cells[i].input_prompt_number == nbb_cell_id) {\n",
       "                        if (nbb_cells[i].get_text() == nbb_unformatted_code) {\n",
       "                             nbb_cells[i].set_text(nbb_formatted_code);\n",
       "                        }\n",
       "                        break;\n",
       "                    }\n",
       "                }\n",
       "            }, 500);\n",
       "            "
      ],
      "text/plain": [
       "<IPython.core.display.Javascript object>"
      ]
     },
     "metadata": {},
     "output_type": "display_data"
    }
   ],
   "source": [
    "%matplotlib inline"
   ]
  },
  {
   "cell_type": "code",
   "execution_count": 1,
   "metadata": {},
   "outputs": [],
   "source": [
    "from utils import *\n",
    "import warnings\n",
    "from data_loader import DatasetLSTM\n",
    "from train_autoregressive_lstm import train_lstm\n",
    "from autoregressive_LSTM_model import LstmModel\n",
    "\n",
    "\n",
    "warnings.filterwarnings(\"ignore\")"
   ]
  },
  {
   "cell_type": "code",
   "execution_count": 4,
   "metadata": {},
   "outputs": [
    {
     "data": {
      "application/javascript": [
       "\n",
       "            setTimeout(function() {\n",
       "                var nbb_cell_id = 4;\n",
       "                var nbb_unformatted_code = \"# calendar = pd.read_csv('calendar.csv')\\ntrain = pd.read_csv(\\\"sales_train_validation.csv\\\")\\n# submission = pd.read_csv('sample_submission.csv')\\n# test = pd.read_csv('sell_prices.csv')\\n# fit, val = pd.read_csv(\\\"fit.csv\\\"), pd.read_csv(\\\"val.csv\\\")\\n# train = pd.read_csv('train_ts.csv')\";\n",
       "                var nbb_formatted_code = \"# calendar = pd.read_csv('calendar.csv')\\ntrain = pd.read_csv(\\\"sales_train_validation.csv\\\")\\n# submission = pd.read_csv('sample_submission.csv')\\n# test = pd.read_csv('sell_prices.csv')\\n# fit, val = pd.read_csv(\\\"fit.csv\\\"), pd.read_csv(\\\"val.csv\\\")\\n# train = pd.read_csv('train_ts.csv')\";\n",
       "                var nbb_cells = Jupyter.notebook.get_cells();\n",
       "                for (var i = 0; i < nbb_cells.length; ++i) {\n",
       "                    if (nbb_cells[i].input_prompt_number == nbb_cell_id) {\n",
       "                        if (nbb_cells[i].get_text() == nbb_unformatted_code) {\n",
       "                             nbb_cells[i].set_text(nbb_formatted_code);\n",
       "                        }\n",
       "                        break;\n",
       "                    }\n",
       "                }\n",
       "            }, 500);\n",
       "            "
      ],
      "text/plain": [
       "<IPython.core.display.Javascript object>"
      ]
     },
     "metadata": {},
     "output_type": "display_data"
    }
   ],
   "source": [
    "# calendar = pd.read_csv('calendar.csv')\n",
    "train = pd.read_csv(\"sales_train_validation.csv\")\n",
    "# submission = pd.read_csv('sample_submission.csv')\n",
    "# test = pd.read_csv('sell_prices.csv')\n",
    "# fit, val = pd.read_csv(\"fit.csv\"), pd.read_csv(\"val.csv\")\n",
    "# train = pd.read_csv('train_ts.csv')"
   ]
  },
  {
   "cell_type": "code",
   "execution_count": 5,
   "metadata": {},
   "outputs": [
    {
     "data": {
      "application/javascript": [
       "\n",
       "            setTimeout(function() {\n",
       "                var nbb_cell_id = 5;\n",
       "                var nbb_unformatted_code = \"# train = ts_scale(train)\";\n",
       "                var nbb_formatted_code = \"# train = ts_scale(train)\";\n",
       "                var nbb_cells = Jupyter.notebook.get_cells();\n",
       "                for (var i = 0; i < nbb_cells.length; ++i) {\n",
       "                    if (nbb_cells[i].input_prompt_number == nbb_cell_id) {\n",
       "                        if (nbb_cells[i].get_text() == nbb_unformatted_code) {\n",
       "                             nbb_cells[i].set_text(nbb_formatted_code);\n",
       "                        }\n",
       "                        break;\n",
       "                    }\n",
       "                }\n",
       "            }, 500);\n",
       "            "
      ],
      "text/plain": [
       "<IPython.core.display.Javascript object>"
      ]
     },
     "metadata": {},
     "output_type": "display_data"
    }
   ],
   "source": [
    "# train = ts_scale(train)"
   ]
  },
  {
   "cell_type": "code",
   "execution_count": 6,
   "metadata": {},
   "outputs": [
    {
     "data": {
      "application/javascript": [
       "\n",
       "            setTimeout(function() {\n",
       "                var nbb_cell_id = 6;\n",
       "                var nbb_unformatted_code = \"SIZE = 1913\\nDAYS = range(1, SIZE + 1)\\nts_columns = [f\\\"d_{i}\\\" for i in DAYS]\\n\\nfit = train[ts_columns].iloc[0 : 30488 // 2]\\nval = train[ts_columns].iloc[30488 // 2 : -2]\";\n",
       "                var nbb_formatted_code = \"SIZE = 1913\\nDAYS = range(1, SIZE + 1)\\nts_columns = [f\\\"d_{i}\\\" for i in DAYS]\\n\\nfit = train[ts_columns].iloc[0 : 30488 // 2]\\nval = train[ts_columns].iloc[30488 // 2 : -2]\";\n",
       "                var nbb_cells = Jupyter.notebook.get_cells();\n",
       "                for (var i = 0; i < nbb_cells.length; ++i) {\n",
       "                    if (nbb_cells[i].input_prompt_number == nbb_cell_id) {\n",
       "                        if (nbb_cells[i].get_text() == nbb_unformatted_code) {\n",
       "                             nbb_cells[i].set_text(nbb_formatted_code);\n",
       "                        }\n",
       "                        break;\n",
       "                    }\n",
       "                }\n",
       "            }, 500);\n",
       "            "
      ],
      "text/plain": [
       "<IPython.core.display.Javascript object>"
      ]
     },
     "metadata": {},
     "output_type": "display_data"
    }
   ],
   "source": [
    "SIZE = 1913\n",
    "DAYS = range(1, SIZE + 1)\n",
    "ts_columns = [f\"d_{i}\" for i in DAYS]\n",
    "\n",
    "fit = train[ts_columns].iloc[0 : 30488 // 2]\n",
    "val = train[ts_columns].iloc[30488 // 2 : -2]"
   ]
  },
  {
   "cell_type": "code",
   "execution_count": 8,
   "metadata": {},
   "outputs": [
    {
     "data": {
      "text/plain": [
       "30488"
      ]
     },
     "execution_count": 8,
     "metadata": {},
     "output_type": "execute_result"
    },
    {
     "data": {
      "application/javascript": [
       "\n",
       "            setTimeout(function() {\n",
       "                var nbb_cell_id = 8;\n",
       "                var nbb_unformatted_code = \"fit.shape[0]*2\\n\\n# fit[\\\"mean\\\"] = fit.mean(axis=1)\\n# val[\\\"mean\\\"] = val.mean(axis=1)\\n\\n# fit[\\\"std\\\"] = fit.std(axis=1)\\n# val[\\\"std\\\"] = val.std(axis=1)\\n\\n# # Normalisation\\n# fit = fit.apply(lambda row: (row - row[\\\"mean\\\"]) / row[\\\"std\\\"], axis=1)\\n# fit.drop([\\\"mean\\\", \\\"std\\\"], axis=1, inplace=True)\\n\\n# val = val.apply(lambda row: (row - row[\\\"mean\\\"]) / row[\\\"std\\\"], axis=1)\\n# val.drop([\\\"mean\\\", \\\"std\\\"], axis=1, inplace=True)\";\n",
       "                var nbb_formatted_code = \"fit.shape[0] * 2\\n\\n# fit[\\\"mean\\\"] = fit.mean(axis=1)\\n# val[\\\"mean\\\"] = val.mean(axis=1)\\n\\n# fit[\\\"std\\\"] = fit.std(axis=1)\\n# val[\\\"std\\\"] = val.std(axis=1)\\n\\n# # Normalisation\\n# fit = fit.apply(lambda row: (row - row[\\\"mean\\\"]) / row[\\\"std\\\"], axis=1)\\n# fit.drop([\\\"mean\\\", \\\"std\\\"], axis=1, inplace=True)\\n\\n# val = val.apply(lambda row: (row - row[\\\"mean\\\"]) / row[\\\"std\\\"], axis=1)\\n# val.drop([\\\"mean\\\", \\\"std\\\"], axis=1, inplace=True)\";\n",
       "                var nbb_cells = Jupyter.notebook.get_cells();\n",
       "                for (var i = 0; i < nbb_cells.length; ++i) {\n",
       "                    if (nbb_cells[i].input_prompt_number == nbb_cell_id) {\n",
       "                        if (nbb_cells[i].get_text() == nbb_unformatted_code) {\n",
       "                             nbb_cells[i].set_text(nbb_formatted_code);\n",
       "                        }\n",
       "                        break;\n",
       "                    }\n",
       "                }\n",
       "            }, 500);\n",
       "            "
      ],
      "text/plain": [
       "<IPython.core.display.Javascript object>"
      ]
     },
     "metadata": {},
     "output_type": "display_data"
    }
   ],
   "source": [
    "fit.shape[0] * 2\n",
    "\n",
    "# fit[\"mean\"] = fit.mean(axis=1)\n",
    "# val[\"mean\"] = val.mean(axis=1)\n",
    "\n",
    "# fit[\"std\"] = fit.std(axis=1)\n",
    "# val[\"std\"] = val.std(axis=1)\n",
    "\n",
    "# # Normalisation\n",
    "# fit = fit.apply(lambda row: (row - row[\"mean\"]) / row[\"std\"], axis=1)\n",
    "# fit.drop([\"mean\", \"std\"], axis=1, inplace=True)\n",
    "\n",
    "# val = val.apply(lambda row: (row - row[\"mean\"]) / row[\"std\"], axis=1)\n",
    "# val.drop([\"mean\", \"std\"], axis=1, inplace=True)"
   ]
  },
  {
   "cell_type": "code",
   "execution_count": 14,
   "metadata": {},
   "outputs": [
    {
     "data": {
      "application/javascript": [
       "\n",
       "            setTimeout(function() {\n",
       "                var nbb_cell_id = 14;\n",
       "                var nbb_unformatted_code = \"#test \\nsin_array = np.zeros((30488,1913))\\nfor i in range(30488):\\n    sin_array[i] = np.sin(i+1*np.arange(1,1914))\";\n",
       "                var nbb_formatted_code = \"# test\\nsin_array = np.zeros((30488, 1913))\\nfor i in range(30488):\\n    sin_array[i] = np.sin(i + 1 * np.arange(1, 1914))\";\n",
       "                var nbb_cells = Jupyter.notebook.get_cells();\n",
       "                for (var i = 0; i < nbb_cells.length; ++i) {\n",
       "                    if (nbb_cells[i].input_prompt_number == nbb_cell_id) {\n",
       "                        if (nbb_cells[i].get_text() == nbb_unformatted_code) {\n",
       "                             nbb_cells[i].set_text(nbb_formatted_code);\n",
       "                        }\n",
       "                        break;\n",
       "                    }\n",
       "                }\n",
       "            }, 500);\n",
       "            "
      ],
      "text/plain": [
       "<IPython.core.display.Javascript object>"
      ]
     },
     "metadata": {},
     "output_type": "display_data"
    }
   ],
   "source": [
    "#test \n",
    "sin_array = np.zeros((30488,1913))\n",
    "for i in range(30488):\n",
    "    sin_array[i] = np.sin(i+1*np.arange(1,1914))\n"
   ]
  },
  {
   "cell_type": "code",
   "execution_count": 15,
   "metadata": {},
   "outputs": [
    {
     "data": {
      "application/javascript": [
       "\n",
       "            setTimeout(function() {\n",
       "                var nbb_cell_id = 15;\n",
       "                var nbb_unformatted_code = \"train = pd.DataFrame(sin_array)\";\n",
       "                var nbb_formatted_code = \"train = pd.DataFrame(sin_array)\";\n",
       "                var nbb_cells = Jupyter.notebook.get_cells();\n",
       "                for (var i = 0; i < nbb_cells.length; ++i) {\n",
       "                    if (nbb_cells[i].input_prompt_number == nbb_cell_id) {\n",
       "                        if (nbb_cells[i].get_text() == nbb_unformatted_code) {\n",
       "                             nbb_cells[i].set_text(nbb_formatted_code);\n",
       "                        }\n",
       "                        break;\n",
       "                    }\n",
       "                }\n",
       "            }, 500);\n",
       "            "
      ],
      "text/plain": [
       "<IPython.core.display.Javascript object>"
      ]
     },
     "metadata": {},
     "output_type": "display_data"
    }
   ],
   "source": [
    "train = pd.DataFrame(sin_array)"
   ]
  },
  {
   "cell_type": "code",
   "execution_count": 21,
   "metadata": {},
   "outputs": [
    {
     "data": {
      "application/javascript": [
       "\n",
       "            setTimeout(function() {\n",
       "                var nbb_cell_id = 21;\n",
       "                var nbb_unformatted_code = \"fit = train.iloc[0 : 30488 // 2]\\nval = train.iloc[30488 // 2 : -2]\";\n",
       "                var nbb_formatted_code = \"fit = train.iloc[0 : 30488 // 2]\\nval = train.iloc[30488 // 2 : -2]\";\n",
       "                var nbb_cells = Jupyter.notebook.get_cells();\n",
       "                for (var i = 0; i < nbb_cells.length; ++i) {\n",
       "                    if (nbb_cells[i].input_prompt_number == nbb_cell_id) {\n",
       "                        if (nbb_cells[i].get_text() == nbb_unformatted_code) {\n",
       "                             nbb_cells[i].set_text(nbb_formatted_code);\n",
       "                        }\n",
       "                        break;\n",
       "                    }\n",
       "                }\n",
       "            }, 500);\n",
       "            "
      ],
      "text/plain": [
       "<IPython.core.display.Javascript object>"
      ]
     },
     "metadata": {},
     "output_type": "display_data"
    }
   ],
   "source": [
    "fit = train.iloc[0 : 30488 // 2]\n",
    "val = train.iloc[30488 // 2 : -2]"
   ]
  },
  {
   "cell_type": "markdown",
   "metadata": {},
   "source": [
    "## **Data loader sanity check**"
   ]
  },
  {
   "cell_type": "markdown",
   "metadata": {},
   "source": [
    "On va séparer le train en fit et val : Le fit contient les $N - 28$ premiers jours et le val contient les $28$ derniers jours."
   ]
  },
  {
   "cell_type": "code",
   "execution_count": 22,
   "metadata": {},
   "outputs": [
    {
     "name": "stdout",
     "output_type": "stream",
     "text": [
      "85\n"
     ]
    },
    {
     "data": {
      "application/javascript": [
       "\n",
       "            setTimeout(function() {\n",
       "                var nbb_cell_id = 22;\n",
       "                var nbb_unformatted_code = \"criterion = nn.MSELoss()\\ndevice = torch.device(\\\"cuda:0\\\" if torch.cuda.is_available() else \\\"cpu\\\")\\n\\nbatch_size = 2048\\nstart_day = 1800\\ntarget_size = 28\\n\\nsequence_lenght = SIZE - (start_day + target_size)\\nprint(sequence_lenght)\\nmodel = LstmModel(\\n    hidden_dim=128,\\n    batch_size=batch_size,\\n    target_size=target_size,\\n    n_layers=1,\\n    sequence_length=sequence_lenght,\\n    device=device,\\n)\\n\\noptimizer = optim.Adam(model.parameters(), lr=0.0001)\\n\\ndata_train = DatasetLSTM(df=fit, start_day=start_day, target_size=target_size)\\ntrain_loader = DataLoader(\\n    data_train, batch_size=batch_size, shuffle=True, num_workers=4\\n)\\n\\ndata_val = DatasetLSTM(df=val, start_day=start_day, target_size=target_size)\\n\\nval_loader = DataLoader(data_val, batch_size=batch_size, shuffle=True, num_workers=4)\\n\\nn_epochs = 10\";\n",
       "                var nbb_formatted_code = \"criterion = nn.MSELoss()\\ndevice = torch.device(\\\"cuda:0\\\" if torch.cuda.is_available() else \\\"cpu\\\")\\n\\nbatch_size = 2048\\nstart_day = 1800\\ntarget_size = 28\\n\\nsequence_lenght = SIZE - (start_day + target_size)\\nprint(sequence_lenght)\\nmodel = LstmModel(\\n    hidden_dim=128,\\n    batch_size=batch_size,\\n    target_size=target_size,\\n    n_layers=1,\\n    sequence_length=sequence_lenght,\\n    device=device,\\n)\\n\\noptimizer = optim.Adam(model.parameters(), lr=0.0001)\\n\\ndata_train = DatasetLSTM(df=fit, start_day=start_day, target_size=target_size)\\ntrain_loader = DataLoader(\\n    data_train, batch_size=batch_size, shuffle=True, num_workers=4\\n)\\n\\ndata_val = DatasetLSTM(df=val, start_day=start_day, target_size=target_size)\\n\\nval_loader = DataLoader(data_val, batch_size=batch_size, shuffle=True, num_workers=4)\\n\\nn_epochs = 10\";\n",
       "                var nbb_cells = Jupyter.notebook.get_cells();\n",
       "                for (var i = 0; i < nbb_cells.length; ++i) {\n",
       "                    if (nbb_cells[i].input_prompt_number == nbb_cell_id) {\n",
       "                        if (nbb_cells[i].get_text() == nbb_unformatted_code) {\n",
       "                             nbb_cells[i].set_text(nbb_formatted_code);\n",
       "                        }\n",
       "                        break;\n",
       "                    }\n",
       "                }\n",
       "            }, 500);\n",
       "            "
      ],
      "text/plain": [
       "<IPython.core.display.Javascript object>"
      ]
     },
     "metadata": {},
     "output_type": "display_data"
    }
   ],
   "source": [
    "criterion = nn.MSELoss()\n",
    "device = torch.device(\"cuda:0\" if torch.cuda.is_available() else \"cpu\")\n",
    "\n",
    "batch_size = 2048\n",
    "start_day = 1800\n",
    "target_size = 28\n",
    "\n",
    "sequence_lenght = SIZE - (start_day + target_size)\n",
    "print(sequence_lenght)\n",
    "model = LstmModel(\n",
    "    hidden_dim=128,\n",
    "    batch_size=batch_size,\n",
    "    target_size=target_size,\n",
    "    n_layers=1,\n",
    "    sequence_length=sequence_lenght,\n",
    "    device=device,\n",
    ")\n",
    "\n",
    "optimizer = optim.Adam(model.parameters(), lr=0.0001)\n",
    "\n",
    "data_train = DatasetLSTM(df=fit, start_day=start_day, target_size=target_size)\n",
    "train_loader = DataLoader(\n",
    "    data_train, batch_size=batch_size, shuffle=True, num_workers=4\n",
    ")\n",
    "\n",
    "data_val = DatasetLSTM(df=val, start_day=start_day, target_size=target_size)\n",
    "\n",
    "val_loader = DataLoader(data_val, batch_size=batch_size, shuffle=True, num_workers=4)\n",
    "\n",
    "n_epochs = 10"
   ]
  },
  {
   "cell_type": "code",
   "execution_count": 23,
   "metadata": {
    "scrolled": false
   },
   "outputs": [
    {
     "data": {
      "application/vnd.jupyter.widget-view+json": {
       "model_id": "c917013121d04e50b99c57f85f3c744e",
       "version_major": 2,
       "version_minor": 0
      },
      "text/plain": [
       "HBox(children=(IntProgress(value=0, max=10), HTML(value='')))"
      ]
     },
     "metadata": {},
     "output_type": "display_data"
    },
    {
     "name": "stdout",
     "output_type": "stream",
     "text": [
      "Fit loss: 0.0300 and Val loss: 0.0299\n",
      "Fit loss: 0.0299 and Val loss: 0.0299\n",
      "Fit loss: 0.0300 and Val loss: 0.0299\n",
      "Fit loss: 0.0300 and Val loss: 0.0299\n",
      "Fit loss: 0.0300 and Val loss: 0.0299\n",
      "Fit loss: 0.0300 and Val loss: 0.0299\n",
      "Fit loss: 0.0300 and Val loss: 0.0299\n",
      "Fit loss: 0.0300 and Val loss: 0.0299\n",
      "Fit loss: 0.0300 and Val loss: 0.0299\n",
      "Fit loss: 0.0300 and Val loss: 0.0299\n",
      "\n"
     ]
    },
    {
     "data": {
      "application/javascript": [
       "\n",
       "            setTimeout(function() {\n",
       "                var nbb_cell_id = 23;\n",
       "                var nbb_unformatted_code = \"prediction = train_lstm(\\n    model=model,\\n    criterion=criterion,\\n    optimizer=optimizer,\\n    train_loader=train_loader,\\n    val_loader=val_loader,\\n    device=device,\\n    verbose=True,\\n    n_epochs=n_epochs,\\n)\";\n",
       "                var nbb_formatted_code = \"prediction = train_lstm(\\n    model=model,\\n    criterion=criterion,\\n    optimizer=optimizer,\\n    train_loader=train_loader,\\n    val_loader=val_loader,\\n    device=device,\\n    verbose=True,\\n    n_epochs=n_epochs,\\n)\";\n",
       "                var nbb_cells = Jupyter.notebook.get_cells();\n",
       "                for (var i = 0; i < nbb_cells.length; ++i) {\n",
       "                    if (nbb_cells[i].input_prompt_number == nbb_cell_id) {\n",
       "                        if (nbb_cells[i].get_text() == nbb_unformatted_code) {\n",
       "                             nbb_cells[i].set_text(nbb_formatted_code);\n",
       "                        }\n",
       "                        break;\n",
       "                    }\n",
       "                }\n",
       "            }, 500);\n",
       "            "
      ],
      "text/plain": [
       "<IPython.core.display.Javascript object>"
      ]
     },
     "metadata": {},
     "output_type": "display_data"
    }
   ],
   "source": [
    "prediction = train_lstm(\n",
    "    model=model,\n",
    "    criterion=criterion,\n",
    "    optimizer=optimizer,\n",
    "    train_loader=train_loader,\n",
    "    val_loader=val_loader,\n",
    "    device=device,\n",
    "    verbose=True,\n",
    "    n_epochs=n_epochs,\n",
    ")"
   ]
  },
  {
   "cell_type": "code",
   "execution_count": 24,
   "metadata": {},
   "outputs": [
    {
     "data": {
      "text/plain": [
       "Text(0.5, 1.0, 'val_loss')"
      ]
     },
     "execution_count": 24,
     "metadata": {},
     "output_type": "execute_result"
    },
    {
     "data": {
      "image/png": "[encoded data removed]",
      "text/plain": [
       "<Figure size 1080x720 with 2 Axes>"
      ]
     },
     "metadata": {
      "needs_background": "light"
     },
     "output_type": "display_data"
    },
    {
     "data": {
      "application/javascript": [
       "\n",
       "            setTimeout(function() {\n",
       "                var nbb_cell_id = 24;\n",
       "                var nbb_unformatted_code = \"plt.figure(figsize = (15,10))\\nplt.subplot(1,2,1)\\nplt.plot(prediction[0])\\nplt.title('fit_loss')\\n\\nplt.subplot(1,2,2)\\nplt.plot(prediction[1])\\nplt.title('val_loss')\";\n",
       "                var nbb_formatted_code = \"plt.figure(figsize=(15, 10))\\nplt.subplot(1, 2, 1)\\nplt.plot(prediction[0])\\nplt.title(\\\"fit_loss\\\")\\n\\nplt.subplot(1, 2, 2)\\nplt.plot(prediction[1])\\nplt.title(\\\"val_loss\\\")\";\n",
       "                var nbb_cells = Jupyter.notebook.get_cells();\n",
       "                for (var i = 0; i < nbb_cells.length; ++i) {\n",
       "                    if (nbb_cells[i].input_prompt_number == nbb_cell_id) {\n",
       "                        if (nbb_cells[i].get_text() == nbb_unformatted_code) {\n",
       "                             nbb_cells[i].set_text(nbb_formatted_code);\n",
       "                        }\n",
       "                        break;\n",
       "                    }\n",
       "                }\n",
       "            }, 500);\n",
       "            "
      ],
      "text/plain": [
       "<IPython.core.display.Javascript object>"
      ]
     },
     "metadata": {},
     "output_type": "display_data"
    }
   ],
   "source": [
    "plt.figure(figsize = (15,10))\n",
    "plt.subplot(1,2,1)\n",
    "plt.plot(prediction[0])\n",
    "plt.title('fit_loss')\n",
    "\n",
    "plt.subplot(1,2,2)\n",
    "plt.plot(prediction[1])\n",
    "plt.title('val_loss')\n"
   ]
  },
  {
   "cell_type": "code",
   "execution_count": null,
   "metadata": {},
   "outputs": [],
   "source": []
  }
 ],
 "metadata": {
  "kernelspec": {
   "display_name": "Python 3",
   "language": "python",
   "name": "python3"
  },
  "language_info": {
   "codemirror_mode": {
    "name": "ipython",
    "version": 3
   },
   "file_extension": ".py",
   "mimetype": "text/x-python",
   "name": "python",
   "nbconvert_exporter": "python",
   "pygments_lexer": "ipython3",
   "version": "3.7.4"
  }
 },
 "nbformat": 4,
 "nbformat_minor": 2
}
